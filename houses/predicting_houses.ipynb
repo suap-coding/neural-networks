{
 "metadata": {
  "language_info": {
   "codemirror_mode": {
    "name": "ipython",
    "version": 3
   },
   "file_extension": ".py",
   "mimetype": "text/x-python",
   "name": "python",
   "nbconvert_exporter": "python",
   "pygments_lexer": "ipython3",
   "version": "3.8.10"
  },
  "orig_nbformat": 4,
  "kernelspec": {
   "name": "python3",
   "display_name": "Python 3.8.10 64-bit ('numba': conda)"
  },
  "interpreter": {
   "hash": "0b3835b907b6cc7d301aec5540e8a0fbdbe5019d215ce85ebb6eb02d9dcf944e"
  }
 },
 "nbformat": 4,
 "nbformat_minor": 2,
 "cells": [
  {
   "cell_type": "code",
   "execution_count": 1,
   "metadata": {},
   "outputs": [],
   "source": [
    "import pandas as pd # to import csv\n",
    "import numpy as np  # to compute every numerical operation\n",
    "import numba as nba # to compute quickly\n",
    "from sklearn import preprocessing   # to normalise data"
   ]
  },
  {
   "cell_type": "code",
   "execution_count": 2,
   "metadata": {},
   "outputs": [],
   "source": [
    "# sigmoid function to make more sense of the outputs\n",
    "# vectorised = u can pass an array as an argument\n",
    "@nba.vectorize(nopython=True)\n",
    "def sigmoid(x):\n",
    "    return 1/(1 + np.exp(-x))"
   ]
  },
  {
   "cell_type": "code",
   "execution_count": 3,
   "metadata": {},
   "outputs": [
    {
     "output_type": "execute_result",
     "data": {
      "text/plain": [
       "(10, 1460)"
      ]
     },
     "metadata": {},
     "execution_count": 3
    }
   ],
   "source": [
    "# import data from csv, store values in numpy.array\n",
    "house_prices_df = pd.read_csv(\"housepricedata.csv\")\n",
    "house_prices_arr = house_prices_df.values\n",
    "\n",
    "# extract last column which contains the expected outputs\n",
    "expected_outputs = house_prices_arr[:,-1]\n",
    "\n",
    "# extract a big array of data with info about every set of inputs per row\n",
    "# normalise it with sklearn, since I don't wanna do it by hand\n",
    "all_input_neurons_unnorm = house_prices_arr[:,:-1]\n",
    "all_input_neurons = preprocessing.MinMaxScaler().fit_transform(all_input_neurons_unnorm)\n",
    "\n",
    "# get some numbers\n",
    "nr_of_input_samples = all_input_neurons.shape[0]\n",
    "nr_of_input_neurons = all_input_neurons.shape[1]\n",
    "nr_of_input_neurons, nr_of_input_samples"
   ]
  },
  {
   "cell_type": "code",
   "execution_count": 4,
   "metadata": {},
   "outputs": [],
   "source": [
    "# arbitrary choice of 6 hidden neurons\n",
    "NR_OF_HIDDEN_NEURS = 6"
   ]
  },
  {
   "cell_type": "code",
   "execution_count": 5,
   "metadata": {},
   "outputs": [
    {
     "output_type": "execute_result",
     "data": {
      "text/plain": [
       "((10, 6), (6,))"
      ]
     },
     "metadata": {},
     "execution_count": 5
    }
   ],
   "source": [
    "# input -> hidden neurons 1\n",
    "# we're starting with random weights and biases\n",
    "weights1 = np.random.random((nr_of_input_neurons, NR_OF_HIDDEN_NEURS))\n",
    "biases1 = np.random.random(NR_OF_HIDDEN_NEURS)\n",
    "weights1.shape, biases1.shape"
   ]
  },
  {
   "cell_type": "code",
   "execution_count": 6,
   "metadata": {},
   "outputs": [
    {
     "output_type": "execute_result",
     "data": {
      "text/plain": [
       "((6, 6), (6,))"
      ]
     },
     "metadata": {},
     "execution_count": 6
    }
   ],
   "source": [
    "# hidden neurons 1 -> hidden neurons 2\n",
    "# we're starting with random weights and biases\n",
    "weights2 = np.random.random((NR_OF_HIDDEN_NEURS, NR_OF_HIDDEN_NEURS))\n",
    "biases2 = np.random.random(NR_OF_HIDDEN_NEURS)\n",
    "weights2.shape, biases2.shape"
   ]
  },
  {
   "cell_type": "code",
   "execution_count": 7,
   "metadata": {},
   "outputs": [
    {
     "output_type": "execute_result",
     "data": {
      "text/plain": [
       "((6, 2), (2,))"
      ]
     },
     "metadata": {},
     "execution_count": 7
    }
   ],
   "source": [
    "# hidden neurons 2 -> out\n",
    "# we're starting with random weights and biases\n",
    "weights3 = np.random.random((NR_OF_HIDDEN_NEURS, 2))\n",
    "biases3 = np.random.random(2)\n",
    "weights3.shape, biases3.shape"
   ]
  },
  {
   "cell_type": "code",
   "execution_count": 8,
   "metadata": {},
   "outputs": [],
   "source": [
    "# function that creates data for next neuron set\n",
    "# using the current neuron values, weights and biases\n",
    "def think(input, weights, biases):\n",
    "    return sigmoid(np.dot(input, weights) + biases)"
   ]
  },
  {
   "cell_type": "code",
   "execution_count": 9,
   "metadata": {},
   "outputs": [],
   "source": [
    "# \"thinking\" about the stuff, trying to figure out the answers -> outputs\n",
    "hidden_1 = think(all_input_neurons, weights1, biases1)\n",
    "hidden_2 = think(hidden_1, weights2, biases2)\n",
    "predictions = think(hidden_2, weights3, biases3)"
   ]
  },
  {
   "cell_type": "code",
   "execution_count": 10,
   "metadata": {},
   "outputs": [],
   "source": [
    "# calculate the cost of every provided output\n",
    "# as a comparison with the expected values\n",
    "@nba.njit\n",
    "def costs(prediction_tuples, expected_outputs):\n",
    "    costs = np.zeros(len(prediction_tuples))\n",
    "    for i in np.arange(len(prediction_tuples)):\n",
    "        prob0 = 0.5 * (1 + (-1)**(expected_outputs[i]))\n",
    "        prob1 = 0.5 * (1 + (-1)**(expected_outputs[i]+1))\n",
    "        costs[i] += (prediction_tuples[i,0] - prob0)**2 + (prediction_tuples[i,1] - prob1)**2\n",
    "    return costs"
   ]
  },
  {
   "source": [
    "### That's how it looks like now:"
   ],
   "cell_type": "markdown",
   "metadata": {}
  },
  {
   "cell_type": "code",
   "execution_count": 11,
   "metadata": {},
   "outputs": [
    {
     "output_type": "execute_result",
     "data": {
      "text/plain": [
       "      Reality    %0    %1      Cost\n",
       "0           1  96.4  96.2  0.930712\n",
       "1           1  96.4  96.2  0.930579\n",
       "2           1  96.4  96.2  0.930848\n",
       "3           0  96.4  96.2  0.926742\n",
       "4           1  96.4  96.2  0.931210\n",
       "...       ...   ...   ...       ...\n",
       "1455        1  96.4  96.2  0.930750\n",
       "1456        1  96.4  96.2  0.930770\n",
       "1457        1  96.4  96.2  0.930957\n",
       "1458        0  96.3  96.1  0.925793\n",
       "1459        0  96.4  96.2  0.926617\n",
       "\n",
       "[1460 rows x 4 columns]"
      ],
      "text/html": "<div>\n<style scoped>\n    .dataframe tbody tr th:only-of-type {\n        vertical-align: middle;\n    }\n\n    .dataframe tbody tr th {\n        vertical-align: top;\n    }\n\n    .dataframe thead th {\n        text-align: right;\n    }\n</style>\n<table border=\"1\" class=\"dataframe\">\n  <thead>\n    <tr style=\"text-align: right;\">\n      <th></th>\n      <th>Reality</th>\n      <th>%0</th>\n      <th>%1</th>\n      <th>Cost</th>\n    </tr>\n  </thead>\n  <tbody>\n    <tr>\n      <th>0</th>\n      <td>1</td>\n      <td>96.4</td>\n      <td>96.2</td>\n      <td>0.930712</td>\n    </tr>\n    <tr>\n      <th>1</th>\n      <td>1</td>\n      <td>96.4</td>\n      <td>96.2</td>\n      <td>0.930579</td>\n    </tr>\n    <tr>\n      <th>2</th>\n      <td>1</td>\n      <td>96.4</td>\n      <td>96.2</td>\n      <td>0.930848</td>\n    </tr>\n    <tr>\n      <th>3</th>\n      <td>0</td>\n      <td>96.4</td>\n      <td>96.2</td>\n      <td>0.926742</td>\n    </tr>\n    <tr>\n      <th>4</th>\n      <td>1</td>\n      <td>96.4</td>\n      <td>96.2</td>\n      <td>0.931210</td>\n    </tr>\n    <tr>\n      <th>...</th>\n      <td>...</td>\n      <td>...</td>\n      <td>...</td>\n      <td>...</td>\n    </tr>\n    <tr>\n      <th>1455</th>\n      <td>1</td>\n      <td>96.4</td>\n      <td>96.2</td>\n      <td>0.930750</td>\n    </tr>\n    <tr>\n      <th>1456</th>\n      <td>1</td>\n      <td>96.4</td>\n      <td>96.2</td>\n      <td>0.930770</td>\n    </tr>\n    <tr>\n      <th>1457</th>\n      <td>1</td>\n      <td>96.4</td>\n      <td>96.2</td>\n      <td>0.930957</td>\n    </tr>\n    <tr>\n      <th>1458</th>\n      <td>0</td>\n      <td>96.3</td>\n      <td>96.1</td>\n      <td>0.925793</td>\n    </tr>\n    <tr>\n      <th>1459</th>\n      <td>0</td>\n      <td>96.4</td>\n      <td>96.2</td>\n      <td>0.926617</td>\n    </tr>\n  </tbody>\n</table>\n<p>1460 rows × 4 columns</p>\n</div>"
     },
     "metadata": {},
     "execution_count": 11
    }
   ],
   "source": [
    "# let's get costs\n",
    "costs_of_predictions = costs(predictions, expected_outputs)\n",
    "\n",
    "# create a summary\n",
    "predictions_df = pd.DataFrame(np.round(predictions*100,1), columns=[\"%0\", \"%1\"])\n",
    "costs_df = pd.DataFrame(costs_of_predictions, columns = [\"Cost\"])\n",
    "expected_outputs_df = pd.DataFrame(expected_outputs, columns=[\"Reality\"])\n",
    "\n",
    "summary = pd.concat([expected_outputs_df, predictions_df, costs_df], axis=1)\n",
    "summary"
   ]
  },
  {
   "source": [
    "Predictions are pretty much complete garbage at this point.\n",
    "Shouldn't be surprising, since we basicaly rolled D100 for weights and biases. :P"
   ],
   "cell_type": "markdown",
   "metadata": {}
  },
  {
   "source": [
    "### Let's get some test data to check if cost function makes sense:"
   ],
   "cell_type": "markdown",
   "metadata": {}
  },
  {
   "cell_type": "code",
   "execution_count": 12,
   "metadata": {},
   "outputs": [
    {
     "output_type": "execute_result",
     "data": {
      "text/plain": [
       "      Reality     %0     %1    Cost\n",
       "0           1  100.0   25.0  1.5625\n",
       "1           1    0.0   25.0  0.5625\n",
       "2           1   75.0  100.0  0.5625\n",
       "3           0    0.0   25.0  1.0625\n",
       "4           1   50.0   75.0  0.3125\n",
       "...       ...    ...    ...     ...\n",
       "1455        1   50.0   50.0  0.5000\n",
       "1456        1    0.0   50.0  0.2500\n",
       "1457        1   50.0    0.0  1.2500\n",
       "1458        0   50.0   75.0  0.8125\n",
       "1459        0   25.0    0.0  0.5625\n",
       "\n",
       "[1460 rows x 4 columns]"
      ],
      "text/html": "<div>\n<style scoped>\n    .dataframe tbody tr th:only-of-type {\n        vertical-align: middle;\n    }\n\n    .dataframe tbody tr th {\n        vertical-align: top;\n    }\n\n    .dataframe thead th {\n        text-align: right;\n    }\n</style>\n<table border=\"1\" class=\"dataframe\">\n  <thead>\n    <tr style=\"text-align: right;\">\n      <th></th>\n      <th>Reality</th>\n      <th>%0</th>\n      <th>%1</th>\n      <th>Cost</th>\n    </tr>\n  </thead>\n  <tbody>\n    <tr>\n      <th>0</th>\n      <td>1</td>\n      <td>100.0</td>\n      <td>25.0</td>\n      <td>1.5625</td>\n    </tr>\n    <tr>\n      <th>1</th>\n      <td>1</td>\n      <td>0.0</td>\n      <td>25.0</td>\n      <td>0.5625</td>\n    </tr>\n    <tr>\n      <th>2</th>\n      <td>1</td>\n      <td>75.0</td>\n      <td>100.0</td>\n      <td>0.5625</td>\n    </tr>\n    <tr>\n      <th>3</th>\n      <td>0</td>\n      <td>0.0</td>\n      <td>25.0</td>\n      <td>1.0625</td>\n    </tr>\n    <tr>\n      <th>4</th>\n      <td>1</td>\n      <td>50.0</td>\n      <td>75.0</td>\n      <td>0.3125</td>\n    </tr>\n    <tr>\n      <th>...</th>\n      <td>...</td>\n      <td>...</td>\n      <td>...</td>\n      <td>...</td>\n    </tr>\n    <tr>\n      <th>1455</th>\n      <td>1</td>\n      <td>50.0</td>\n      <td>50.0</td>\n      <td>0.5000</td>\n    </tr>\n    <tr>\n      <th>1456</th>\n      <td>1</td>\n      <td>0.0</td>\n      <td>50.0</td>\n      <td>0.2500</td>\n    </tr>\n    <tr>\n      <th>1457</th>\n      <td>1</td>\n      <td>50.0</td>\n      <td>0.0</td>\n      <td>1.2500</td>\n    </tr>\n    <tr>\n      <th>1458</th>\n      <td>0</td>\n      <td>50.0</td>\n      <td>75.0</td>\n      <td>0.8125</td>\n    </tr>\n    <tr>\n      <th>1459</th>\n      <td>0</td>\n      <td>25.0</td>\n      <td>0.0</td>\n      <td>0.5625</td>\n    </tr>\n  </tbody>\n</table>\n<p>1460 rows × 4 columns</p>\n</div>"
     },
     "metadata": {},
     "execution_count": 12
    }
   ],
   "source": [
    "# random predictions; possible values: 0%, 25%, 50%, 75%, 100%\n",
    "random_predictions = (np.random.randint(0, 5, [len(predictions), 2]) / 4)\n",
    "costs_of_predictions = costs(random_predictions, expected_outputs)\n",
    "\n",
    "# create a summary\n",
    "predictions_df = pd.DataFrame(np.round(random_predictions*100,1), columns=[\"%0\", \"%1\"])\n",
    "costs_df = pd.DataFrame(costs_of_predictions, columns = [\"Cost\"])\n",
    "expected_outputs_df = pd.DataFrame(expected_outputs, columns=[\"Reality\"])\n",
    "\n",
    "summary = pd.concat([expected_outputs_df, predictions_df, costs_df], axis=1)\n",
    "summary"
   ]
  },
  {
   "source": [
    "## Seems that the cost function is working fine."
   ],
   "cell_type": "markdown",
   "metadata": {}
  }
 ]
}