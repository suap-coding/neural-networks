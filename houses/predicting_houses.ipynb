{
 "metadata": {
  "language_info": {
   "codemirror_mode": {
    "name": "ipython",
    "version": 3
   },
   "file_extension": ".py",
   "mimetype": "text/x-python",
   "name": "python",
   "nbconvert_exporter": "python",
   "pygments_lexer": "ipython3",
   "version": "3.8.10"
  },
  "orig_nbformat": 4,
  "kernelspec": {
   "name": "python3",
   "display_name": "Python 3.8.10 64-bit ('numba': conda)"
  },
  "interpreter": {
   "hash": "0b3835b907b6cc7d301aec5540e8a0fbdbe5019d215ce85ebb6eb02d9dcf944e"
  }
 },
 "nbformat": 4,
 "nbformat_minor": 2,
 "cells": [
  {
   "cell_type": "code",
   "execution_count": 1,
   "metadata": {},
   "outputs": [],
   "source": [
    "import pandas as pd\n",
    "import numpy as np\n",
    "import numba as nba\n",
    "from sklearn import preprocessing as prep\n",
    "import gc"
   ]
  },
  {
   "cell_type": "code",
   "execution_count": 2,
   "metadata": {},
   "outputs": [],
   "source": [
    "@nba.vectorize(nopython=True)\n",
    "def sigmoid(x):\n",
    "    # x = np.float32(x)\n",
    "    return 1 / (1+np.exp(-x))"
   ]
  },
  {
   "cell_type": "code",
   "execution_count": 3,
   "metadata": {},
   "outputs": [
    {
     "output_type": "execute_result",
     "data": {
      "text/plain": [
       "(10, 1460)"
      ]
     },
     "metadata": {},
     "execution_count": 3
    }
   ],
   "source": [
    "house_prices_df = pd.read_csv(\"housepricedata.csv\")\n",
    "house_prices_arr = house_prices_df.values\n",
    "\n",
    "expected_outputs = house_prices_arr[:,-1]\n",
    "\n",
    "all_input_neurons_unnorm = house_prices_arr[:,:-1]\n",
    "all_input_neurons = prep.MinMaxScaler().fit_transform(all_input_neurons_unnorm)\n",
    "all_input_neurons = all_input_neurons\n",
    "\n",
    "nr_of_input_samples = all_input_neurons.shape[0]\n",
    "nr_of_neurons = all_input_neurons.shape[1]\n",
    "nr_of_neurons, nr_of_input_samples\n",
    "# del house_prices_df, house_prices_arr, all_input_neurons_unnorm\n",
    "# gc.collect()"
   ]
  },
  {
   "cell_type": "code",
   "execution_count": 4,
   "metadata": {},
   "outputs": [],
   "source": [
    "# arbitrary choice of 6 hidden neurons\n",
    "NR_OF_HIDDEN_NEURS = 6"
   ]
  },
  {
   "cell_type": "code",
   "execution_count": 5,
   "metadata": {},
   "outputs": [
    {
     "output_type": "execute_result",
     "data": {
      "text/plain": [
       "((10, 6), (6,))"
      ]
     },
     "metadata": {},
     "execution_count": 5
    }
   ],
   "source": [
    "# input -> hidden neurons 1\n",
    "weights1 = np.random.random((nr_of_neurons, NR_OF_HIDDEN_NEURS))\n",
    "biases1 = np.random.random(NR_OF_HIDDEN_NEURS)\n",
    "weights1.shape, biases1.shape"
   ]
  },
  {
   "cell_type": "code",
   "execution_count": 6,
   "metadata": {},
   "outputs": [
    {
     "output_type": "execute_result",
     "data": {
      "text/plain": [
       "((6, 6), (6,))"
      ]
     },
     "metadata": {},
     "execution_count": 6
    }
   ],
   "source": [
    "# hidden neurons 1 -> hidden neurons 2\n",
    "weights2 = np.random.random((NR_OF_HIDDEN_NEURS, NR_OF_HIDDEN_NEURS))\n",
    "biases2 = np.random.random(NR_OF_HIDDEN_NEURS)\n",
    "weights2.shape, biases2.shape"
   ]
  },
  {
   "cell_type": "code",
   "execution_count": 7,
   "metadata": {},
   "outputs": [
    {
     "output_type": "execute_result",
     "data": {
      "text/plain": [
       "((6, 2), (2,))"
      ]
     },
     "metadata": {},
     "execution_count": 7
    }
   ],
   "source": [
    "# hidden neurons 2 -> out\n",
    "weights3 = np.random.random((NR_OF_HIDDEN_NEURS, 2))\n",
    "biases3 = np.random.random(2)\n",
    "weights3.shape, biases3.shape"
   ]
  },
  {
   "source": [
    "# testing ground"
   ],
   "cell_type": "markdown",
   "metadata": {}
  },
  {
   "cell_type": "code",
   "execution_count": 8,
   "metadata": {},
   "outputs": [],
   "source": [
    "def think(input, weights, biases):\n",
    "    return sigmoid(np.dot(input, weights) + biases)"
   ]
  },
  {
   "cell_type": "code",
   "execution_count": 9,
   "metadata": {},
   "outputs": [
    {
     "output_type": "execute_result",
     "data": {
      "text/plain": [
       "((1460, 2), (1460,))"
      ]
     },
     "metadata": {},
     "execution_count": 9
    }
   ],
   "source": [
    "hidden_1 = think(all_input_neurons, weights1, biases1)\n",
    "hidden_2 = think(hidden_1, weights2, biases2)\n",
    "outputs_tuples = think(hidden_2, weights3, biases3)\n",
    "outputs_tuples.shape, expected_outputs.shape\n"
   ]
  },
  {
   "cell_type": "code",
   "execution_count": 10,
   "metadata": {},
   "outputs": [],
   "source": [
    "@nba.njit\n",
    "def cost(prob_outputs_tuples, expected_outputs):\n",
    "    cost = 0.0\n",
    "    for i in np.arange(len(prob_outputs_tuples)):\n",
    "            cost += (prob_outputs_tuples[i,0] - expected_outputs[i])**2 + (prob_outputs_tuples[i,1] - expected_outputs[i])**2\n",
    "    return cost\n"
   ]
  },
  {
   "cell_type": "code",
   "execution_count": 14,
   "metadata": {},
   "outputs": [],
   "source": [
    "c = cost(outputs_tuples, expected_outputs)"
   ]
  }
 ]
}